{
 "cells": [
  {
   "cell_type": "code",
   "id": "initial_id",
   "metadata": {
    "collapsed": true,
    "jupyter": {
     "is_executing": true
    }
   },
   "source": [
    "from sklearn.svm import SVC\n",
    "from sklearn.metrics import classification_report, accuracy_score\n",
    "import numpy as np\n",
    "import pandas\n",
    "import cv2\n",
    "import os\n"
   ],
   "outputs": [],
   "execution_count": null
  },
  {
   "metadata": {
    "jupyter": {
     "is_executing": true
    }
   },
   "cell_type": "code",
   "source": [
    "# Đường dẫn tới thư mục ảnh gốc\n",
    "input_dir = \"dataset\"  # Thay bằng đường dẫn của bạn\n",
    "output_dir = \"output\"  # Thư mục lưu ảnh kết quả\n",
    "\n",
    "# Tạo thư mục đầu ra nếu chưa tồn tại\n",
    "if not os.path.exists(output_dir):\n",
    "    os.makedirs(output_dir)\n",
    "\n",
    "# Lấy danh sách tất cả các file ảnh trong thư mục\n",
    "image_files = [f for f in os.listdir(input_dir) if f.endswith(('.jpg', '.png', '.bmp'))]\n",
    "\n",
    "# Kiểm tra số lượng ảnh\n",
    "print(f\"Number of images found: {len(image_files)}\")\n",
    "\n",
    "# Duyệt qua từng ảnh trong dataset\n",
    "for idx, image_file in enumerate(image_files, start=1):\n",
    "    # Đọc ảnh\n",
    "    image_path = os.path.join(input_dir, image_file)\n",
    "    image = cv2.imread(image_path, cv2.IMREAD_GRAYSCALE)\n",
    "\n",
    "    # Kiểm tra ảnh đã đọc thành công chưa\n",
    "    if image is None:\n",
    "        print(f\"[{idx}/{len(image_files)}] Error reading image {image_file}. Skipping...\")\n",
    "        continue\n",
    "\n",
    "    # Áp dụng Otsu's Thresholding\n",
    "    _, otsu_thresh = cv2.threshold(image, 0, 255, cv2.THRESH_BINARY + cv2.THRESH_OTSU)\n",
    "\n",
    "    # Lưu ảnh sau xử lý\n",
    "    output_path = os.path.join(output_dir, image_file)\n",
    "    cv2.imwrite(output_path, otsu_thresh)\n",
    "\n"
   ],
   "id": "76cfa435a00a29bd",
   "outputs": [],
   "execution_count": null
  },
  {
   "metadata": {},
   "cell_type": "code",
   "outputs": [],
   "execution_count": null,
   "source": "",
   "id": "9d37a7e26495cd77"
  }
 ],
 "metadata": {
  "kernelspec": {
   "display_name": "Python 3",
   "language": "python",
   "name": "python3"
  },
  "language_info": {
   "codemirror_mode": {
    "name": "ipython",
    "version": 2
   },
   "file_extension": ".py",
   "mimetype": "text/x-python",
   "name": "python",
   "nbconvert_exporter": "python",
   "pygments_lexer": "ipython2",
   "version": "2.7.6"
  }
 },
 "nbformat": 4,
 "nbformat_minor": 5
}
