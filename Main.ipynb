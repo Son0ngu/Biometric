{
 "cells": [
  {
   "metadata": {},
   "cell_type": "markdown",
   "source": [
    "# This is a sample Jupyter Notebook\n",
    "\n",
    "Below is an example of a code cell. \n",
    "Put your cursor into the cell and press Shift+Enter to execute it and select the next one, or click 'Run Cell' button.\n",
    "\n",
    "Press Double Shift to search everywhere for classes, files, tool windows, actions, and settings.\n",
    "\n",
    "To learn more about Jupyter Notebooks in PyCharm, see [help](https://www.jetbrains.com/help/pycharm/ipython-notebook-support.html).\n",
    "For an overview of PyCharm, go to Help -> Learn IDE features or refer to [our documentation](https://www.jetbrains.com/help/pycharm/getting-started.html)."
   ],
   "id": "8a77807f92f26ee"
  },
  {
   "metadata": {
    "ExecuteTime": {
     "end_time": "2024-12-21T11:39:27.680807Z",
     "start_time": "2024-12-21T11:39:27.668806Z"
    }
   },
   "cell_type": "code",
   "source": "",
   "id": "a7d97dd0452b6865",
   "outputs": [],
   "execution_count": null
  },
  {
   "metadata": {
    "ExecuteTime": {
     "end_time": "2024-12-21T13:08:51.080345Z",
     "start_time": "2024-12-21T13:08:51.069384Z"
    }
   },
   "cell_type": "code",
   "source": [
    "import matplotlib.pyplot as plt\n",
    "import os\n",
    "import random\n",
    "import cv2\n",
    "import numpy as np\n",
    "from sklearn.svm import SVC\n",
    "from sklearn.metrics import accuracy_score\n",
    "\n",
    "path = \"Dataset\"\n",
    "print(\"Path to dataset files:\", path)"
   ],
   "id": "fbc121e30a2defb3",
   "outputs": [
    {
     "name": "stdout",
     "output_type": "stream",
     "text": [
      "Path to dataset files: Dataset\n"
     ]
    }
   ],
   "execution_count": 17
  },
  {
   "metadata": {
    "ExecuteTime": {
     "end_time": "2024-12-21T13:12:47.957662Z",
     "start_time": "2024-12-21T13:08:57.202568Z"
    }
   },
   "cell_type": "code",
   "source": [
    "import os\n",
    "import cv2\n",
    "import numpy as np\n",
    "\n",
    "# Đường dẫn tới thư mục Altered và Real\n",
    "image_dir_altered = \"Dataset/Altered\"\n",
    "image_dir_real = \"Dataset/Real\"\n",
    "\n",
    "# Duyệt qua tất cả các ảnh trong cấu trúc thư mục phức tạp\n",
    "def get_all_images(base_dir):\n",
    "    all_images = []\n",
    "    for root, dirs, files in os.walk(base_dir):  # Duyệt qua thư mục và tệp\n",
    "        for file in files:\n",
    "            if file.endswith('.BMP'):  # Chỉ lấy các tệp có đuôi .BMP\n",
    "                full_path = os.path.join(root, file)\n",
    "                all_images.append(full_path)  # Lưu đường dẫn đầy đủ\n",
    "    return all_images\n",
    "\n",
    "# Lấy danh sách tất cả các ảnh\n",
    "all_real_images = get_all_images(image_dir_real)\n",
    "all_altered_images = get_all_images(image_dir_altered)\n",
    "\n",
    "# Kiểm tra số lượng ảnh\n",
    "print(f\"Found {len(all_real_images)} real images.\")\n",
    "print(f\"Found {len(all_altered_images)} altered images.\")\n",
    "\n",
    "# Duyệt qua từng ảnh để xử lý\n",
    "def process_and_plot(image_path, base_dir, output_base_dir):\n",
    "    # Đọc ảnh\n",
    "    image = cv2.imread(image_path)\n",
    "\n",
    "    # Xử lý cơ bản (resize, denoise, vv.)\n",
    "    resized_image = cv2.resize(image, (0, 0), fx=7, fy=7, interpolation=cv2.INTER_CUBIC)\n",
    "    denoised_image = cv2.fastNlMeansDenoising(resized_image, None, 7, 7, 21)\n",
    "\n",
    "    # Chuyển sang ảnh xám\n",
    "    gray_image = cv2.cvtColor(denoised_image, cv2.COLOR_BGR2GRAY)\n",
    "    clahe = cv2.createCLAHE(clipLimit=2.0, tileGridSize=(8, 8))\n",
    "    enhanced_image = clahe.apply(gray_image)\n",
    "\n",
    "    # Adaptive thresholding\n",
    "    binary_image = cv2.adaptiveThreshold(enhanced_image, 255, cv2.ADAPTIVE_THRESH_GAUSSIAN_C, cv2.THRESH_BINARY, 11, 2)\n",
    "\n",
    "    # Minutiae extraction\n",
    "    minutiae_visualization = np.dstack((binary_image, binary_image, binary_image))\n",
    "    minutiae_points = []\n",
    "    rows, cols = binary_image.shape\n",
    "    for y in range(1, rows - 1):\n",
    "        for x in range(1, cols - 1):\n",
    "            if binary_image[y, x] == 255:\n",
    "                neighborhood = binary_image[y - 1:y + 2, x - 1:x + 2]\n",
    "                ridge_count = np.sum(neighborhood == 255)\n",
    "                if ridge_count == 2:\n",
    "                    minutiae_points.append((x, y))\n",
    "                    cv2.circle(minutiae_visualization, (x, y), 3, (0, 0, 255), -1)\n",
    "                elif ridge_count == 4:\n",
    "                    minutiae_points.append((x, y))\n",
    "                    cv2.circle(minutiae_visualization, (x, y), 3, (0, 255, 0), -1)\n",
    "\n",
    "    # Lưu kết quả minutiae visualization\n",
    "    relative_path = os.path.relpath(image_path, base_dir)  # Tính đường dẫn tương đối từ thư mục gốc\n",
    "    output_dir = os.path.join(output_base_dir, os.path.dirname(relative_path))  # Tạo cấu trúc thư mục kết quả\n",
    "\n",
    "    # Đảm bảo thư mục đầu ra tồn tại\n",
    "    os.makedirs(output_dir, exist_ok=True)\n",
    "\n",
    "    # Lưu hình ảnh minutiae visualization\n",
    "    image_name = os.path.splitext(os.path.basename(image_path))[0]  # Lấy tên ảnh không có phần mở rộng\n",
    "    cv2.imwrite(os.path.join(output_dir, f\"{image_name}_minutiae_visualization.jpg\"), minutiae_visualization)\n",
    "\n",
    "    # Lưu hình ảnh enhanced\n",
    "    cv2.imwrite(os.path.join(output_dir, f\"{image_name}_enhanced.jpg\"), enhanced_image)\n",
    "\n",
    "    # Tính orientation binary\n",
    "    gradient_x = cv2.Sobel(binary_image, cv2.CV_64F, 1, 0, ksize=5)\n",
    "    gradient_y = cv2.Sobel(binary_image, cv2.CV_64F, 0, 1, ksize=5)\n",
    "    orientation_binary = cv2.phase(gradient_x, gradient_y, angleInDegrees=True)\n",
    "\n",
    "    orientation_binary_normalized = cv2.normalize(orientation_binary, None, 0, 255, cv2.NORM_MINMAX).astype('uint8')\n",
    "\n",
    "    # Lưu hình ảnh binary\n",
    "    cv2.imwrite(os.path.join(output_dir, f\"{image_name}_binary.jpg\"), binary_image)\n",
    "\n",
    "# Xử lý tất cả các ảnh trong Altered\n",
    "for img_path in all_altered_images:\n",
    "    process_and_plot(img_path, \"Dataset/Altered\", \"Output/Altered\")\n",
    "\n",
    "# Xử lý tất cả các ảnh trong Real\n",
    "for img_path in all_real_images:\n",
    "    process_and_plot(img_path, \"Dataset/Real\", \"Output/Real\")\n"
   ],
   "id": "eba9f0bc11167f7",
   "outputs": [
    {
     "name": "stdout",
     "output_type": "stream",
     "text": [
      "Found 10 real images.\n",
      "Found 87 altered images.\n"
     ]
    }
   ],
   "execution_count": 18
  },
  {
   "metadata": {
    "ExecuteTime": {
     "end_time": "2024-12-21T13:07:53.220804Z",
     "start_time": "2024-12-21T13:07:53.113833Z"
    }
   },
   "cell_type": "code",
   "source": [
    "# Phần huấn luyện mô hình SVM\n",
    "def extract_features(image_paths):\n",
    "    features = []\n",
    "    for image_path in image_paths:\n",
    "        image = cv2.imread(image_path, cv2.IMREAD_GRAYSCALE)\n",
    "        if image is not None:\n",
    "            features.append(image.flatten())  # Chuyển ảnh thành vector\n",
    "    return np.array(features)\n",
    "\n",
    "# Lấy đặc trưng từ Altered và Real\n",
    "altered_features = extract_features(all_altered_images)\n",
    "real_features = extract_features(all_real_images)\n",
    "\n",
    "# Tạo nhãn cho Altered (1) và Real (0)\n",
    "altered_labels = np.ones(len(altered_features))\n",
    "real_labels = np.zeros(len(real_features))\n",
    "\n",
    "# Gộp đặc trưng và nhãn\n",
    "X = np.vstack((altered_features, real_features))\n",
    "y = np.hstack((altered_labels, real_labels))\n",
    "\n",
    "# Huấn luyện mô hình SVM\n",
    "svm_model = SVC(kernel='linear', probability=True)\n",
    "svm_model.fit(X, y)\n",
    "\n",
    "# Lưu mô hình đã huấn luyện\n",
    "import joblib\n",
    "joblib.dump(svm_model, \"fingerprint_svm_model.pkl\")\n",
    "\n",
    "# Kiểm tra mô hình\n",
    "predictions = svm_model.predict(X)\n",
    "accuracy = accuracy_score(y, predictions)\n",
    "print(f\"Model Accuracy: {accuracy * 100:.2f}%\")\n"
   ],
   "id": "7cba9dd9725a8298",
   "outputs": [
    {
     "name": "stdout",
     "output_type": "stream",
     "text": [
      "Model Accuracy: 100.00%\n"
     ]
    }
   ],
   "execution_count": 16
  }
 ],
 "metadata": {
  "kernelspec": {
   "display_name": "Python 3",
   "language": "python",
   "name": "python3"
  },
  "language_info": {
   "codemirror_mode": {
    "name": "ipython",
    "version": 2
   },
   "file_extension": ".py",
   "mimetype": "text/x-python",
   "name": "python",
   "nbconvert_exporter": "python",
   "pygments_lexer": "ipython2",
   "version": "2.7.6"
  }
 },
 "nbformat": 4,
 "nbformat_minor": 5
}
