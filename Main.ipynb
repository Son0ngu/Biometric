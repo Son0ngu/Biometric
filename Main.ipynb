{
 "cells": [
  {
   "metadata": {},
   "cell_type": "markdown",
   "source": [
    "# This is a sample Jupyter Notebook\n",
    "\n",
    "Below is an example of a code cell. \n",
    "Put your cursor into the cell and press Shift+Enter to execute it and select the next one, or click 'Run Cell' button.\n",
    "\n",
    "Press Double Shift to search everywhere for classes, files, tool windows, actions, and settings.\n",
    "\n",
    "To learn more about Jupyter Notebooks in PyCharm, see [help](https://www.jetbrains.com/help/pycharm/ipython-notebook-support.html).\n",
    "For an overview of PyCharm, go to Help -> Learn IDE features or refer to [our documentation](https://www.jetbrains.com/help/pycharm/getting-started.html)."
   ],
   "id": "8a77807f92f26ee"
  },
  {
   "metadata": {
    "ExecuteTime": {
     "end_time": "2024-12-23T10:07:26.671111Z",
     "start_time": "2024-12-23T10:07:26.662633Z"
    }
   },
   "cell_type": "code",
   "source": [
    "import matplotlib.pyplot as plt\n",
    "import os\n",
    "import random\n",
    "import cv2\n",
    "import numpy as np\n",
    "from sklearn.svm import SVC\n",
    "from sklearn import svm\n",
    "from sklearn.metrics import classification_report, accuracy_score\n",
    "from tqdm import tqdm\n",
    "\n",
    "path = \"Dataset\"\n",
    "print(\"Path to dataset files:\", path)"
   ],
   "id": "fbc121e30a2defb3",
   "outputs": [
    {
     "name": "stdout",
     "output_type": "stream",
     "text": [
      "Path to dataset files: Dataset\n"
     ]
    }
   ],
   "execution_count": 24
  },
  {
   "metadata": {
    "ExecuteTime": {
     "end_time": "2024-12-23T10:10:18.368383Z",
     "start_time": "2024-12-23T10:07:36.629891Z"
    }
   },
   "cell_type": "code",
   "source": [
    "# Đường dẫn tới thư mục Dataset\n",
    "base_path_real = \"Dataset/Real1\"\n",
    "base_path_altered = \"Dataset/Altered\"\n",
    "\n",
    "# Tìm tất cả các file BMP trong Dataset/Real và Dataset/Altered\n",
    "all_images_real = [os.path.join(root, file) for root, _, files in os.walk(base_path_real) for file in files if file.endswith(\".BMP\")]\n",
    "all_images_altered = [os.path.join(root, file) for root, _, files in os.walk(base_path_altered) for file in files if file.endswith(\".BMP\")]\n",
    "all_images = all_images_real + all_images_altered\n",
    "\n",
    "# Hàm xử lý và hiển thị hình ảnh\n",
    "def process_and_plot(image_path, image_name):\n",
    "    # Load ảnh vân tay\n",
    "    image = cv2.imread(image_path)\n",
    "\n",
    "    # Resize ảnh\n",
    "    resized_image = cv2.resize(image, (0, 0), fx=7, fy=7, interpolation=cv2.INTER_CUBIC)\n",
    "\n",
    "    # Loại bỏ nhiễu\n",
    "    denoised_image = cv2.fastNlMeansDenoising(resized_image, None, 7, 7, 21)\n",
    "\n",
    "    # Chuyển ảnh sang grayscale\n",
    "    gray_image = cv2.cvtColor(denoised_image, cv2.COLOR_BGR2GRAY)\n",
    "    clahe = cv2.createCLAHE(clipLimit=2.0, tileGridSize=(8, 8))\n",
    "    enhanced_image = clahe.apply(gray_image)\n",
    "\n",
    "    # Làm mờ ảnh\n",
    "    blurred_image = cv2.GaussianBlur(enhanced_image, (3, 3), 0)\n",
    "\n",
    "    # Threshold thích nghi\n",
    "    binary_image = cv2.adaptiveThreshold(enhanced_image, 255, cv2.ADAPTIVE_THRESH_GAUSSIAN_C, cv2.THRESH_BINARY, 11, 2)\n",
    "\n",
    "    # Phát hiện cạnh\n",
    "    edges = cv2.Canny(binary_image, threshold1=60, threshold2=120)\n",
    "\n",
    "    # Tính toán trường hướng\n",
    "    gradient_x = cv2.Sobel(enhanced_image, cv2.CV_64F, 1, 0, ksize=5)\n",
    "    gradient_y = cv2.Sobel(enhanced_image, cv2.CV_64F, 0, 1, ksize=5)\n",
    "    orientation_enhanced = cv2.phase(gradient_x, gradient_y, angleInDegrees=True)\n",
    "\n",
    "    gradient_x = cv2.Sobel(binary_image, cv2.CV_64F, 1, 0, ksize=5)\n",
    "    gradient_y = cv2.Sobel(binary_image, cv2.CV_64F, 0, 1, ksize=5)\n",
    "    orientation_binary = cv2.phase(gradient_x, gradient_y, angleInDegrees=True)\n",
    "\n",
    "    # Trích xuất và hiển thị điểm minutiae\n",
    "    minutiae_visualization = np.dstack((binary_image, binary_image, binary_image))\n",
    "    minutiae_points = []\n",
    "\n",
    "    rows, cols = binary_image.shape\n",
    "    for y in range(1, rows - 1):\n",
    "        for x in range(1, cols - 1):\n",
    "            if binary_image[y, x] == 255:\n",
    "                neighborhood = binary_image[y - 1:y + 2, x - 1:x + 2]\n",
    "                ridge_count = np.sum(neighborhood == 255)\n",
    "\n",
    "                if ridge_count == 2:  # Ridge ending\n",
    "                    minutiae_points.append((x, y))\n",
    "                    cv2.circle(minutiae_visualization, (x, y), 3, (0, 0, 255), -1)\n",
    "                elif ridge_count == 4:  # Bifurcation\n",
    "                    minutiae_points.append((x, y))\n",
    "                    cv2.circle(minutiae_visualization, (x, y), 3, (0, 255, 0), -1)\n",
    "\n",
    "    # Lưu kết quả vào thư mục tương ứng\n",
    "    if base_path_altered in image_path:\n",
    "        output_dir = \"Output/Altered\"\n",
    "    else:\n",
    "        output_dir = \"Output/Real1\"\n",
    "\n",
    "    os.makedirs(output_dir, exist_ok=True)\n",
    "    cv2.imwrite(os.path.join(output_dir, f\"{image_name}_minutiae_visualization.jpg\"), minutiae_visualization)\n",
    "'''\n",
    "    # Hiển thị kết quả\n",
    "    fig, axes = plt.subplots(1, 9, figsize=(18, 5))\n",
    "\n",
    "    axes[0].imshow(cv2.cvtColor(image, cv2.COLOR_BGR2RGB))\n",
    "    axes[0].set_title(\"Original Image\")\n",
    "    axes[0].axis(\"off\")\n",
    "\n",
    "    axes[1].imshow(gray_image, cmap=\"gray\")\n",
    "    axes[1].set_title(\"Grayscale Image\")\n",
    "    axes[1].axis(\"off\")\n",
    "\n",
    "    axes[2].imshow(cv2.cvtColor(blurred_image, cv2.COLOR_BGR2RGB))\n",
    "    axes[2].set_title(\"Blurred Image\")\n",
    "    axes[2].axis(\"off\")\n",
    "\n",
    "    axes[3].imshow(edges, cmap=\"gray\")\n",
    "    axes[3].set_title(\"Edges\")\n",
    "    axes[3].axis(\"off\")\n",
    "\n",
    "    axes[4].imshow(enhanced_image, cmap=\"gray\")\n",
    "    axes[4].set_title(\"Enhanced Image\")\n",
    "    axes[4].axis(\"off\")\n",
    "\n",
    "    axes[5].imshow(orientation_enhanced, cmap=\"gray\")\n",
    "    axes[5].set_title(\"Orientation Enhanced\")\n",
    "    axes[5].axis(\"off\")\n",
    "\n",
    "    axes[6].imshow(binary_image, cmap=\"gray\")\n",
    "    axes[6].set_title(\"Binary Image\")\n",
    "    axes[6].axis(\"off\")\n",
    "\n",
    "    axes[7].imshow(orientation_binary, cmap=\"gray\")\n",
    "    axes[7].set_title(\"Orientation Binary\")\n",
    "    axes[7].axis(\"off\")\n",
    "\n",
    "    axes[8].imshow(cv2.cvtColor(minutiae_visualization, cv2.COLOR_BGR2RGB))\n",
    "    axes[8].set_title(\"Minutiae Points\")\n",
    "    axes[8].axis(\"off\")\n",
    "\n",
    "    fig.suptitle(image_name, fontsize=14, y=0.02)\n",
    "    plt.tight_layout(rect=[0, 0.05, 1, 0.95])\n",
    "    plt.show()\n",
    "'''\n",
    "# Xử lý tất cả ảnh\n",
    "for img_path in all_images:\n",
    "    img_name = os.path.basename(img_path)\n",
    "    process_and_plot(img_path, img_name)\n",
    "\n",
    "# Xử lý tất cả ảnh với thanh tiến độ\n",
    "print(\"Processing all images...\")\n",
    "for img_path in tqdm(all_images, desc=\"Progress\", unit=\"image\"):\n",
    "    img_name = os.path.basename(img_path)\n",
    "    process_and_plot(img_path, img_name)\n",
    "\n",
    "print(\"Processing completed!\")\n"
   ],
   "id": "eba9f0bc11167f7",
   "outputs": [
    {
     "name": "stdout",
     "output_type": "stream",
     "text": [
      "Processing all images...\n"
     ]
    },
    {
     "name": "stderr",
     "output_type": "stream",
     "text": [
      "Progress: 100%|██████████| 40/40 [01:21<00:00,  2.05s/image]"
     ]
    },
    {
     "name": "stdout",
     "output_type": "stream",
     "text": [
      "Processing completed!\n"
     ]
    },
    {
     "name": "stderr",
     "output_type": "stream",
     "text": [
      "\n"
     ]
    }
   ],
   "execution_count": 25
  },
  {
   "metadata": {
    "ExecuteTime": {
     "end_time": "2024-12-23T10:12:01.090364Z",
     "start_time": "2024-12-23T10:11:04.727460Z"
    }
   },
   "cell_type": "code",
   "source": [
    "output_path_real = \"Output/Real1\"\n",
    "output_path_altered = \"Output/Altered\"\n",
    "\n",
    "# Tìm tất cả các file minutiae visualization trong Output/Real và Output/Altered\n",
    "all_images_real = [os.path.join(root, file) for root, _, files in os.walk(output_path_real) for file in files if file.endswith(\"_minutiae_visualization.jpg\")]\n",
    "all_images_altered = [os.path.join(root, file) for root, _, files in os.walk(output_path_altered) for file in files if file.endswith(\"_minutiae_visualization.jpg\")]\n",
    "\n",
    "# Kiểm tra dữ liệu\n",
    "if not all_images_real:\n",
    "    raise ValueError(\"No images found in Real folder.\")\n",
    "if not all_images_altered:\n",
    "    raise ValueError(\"No images found in Altered folder.\")\n",
    "\n",
    "# Lưu trữ feature và label\n",
    "features_train = []\n",
    "labels_train = []\n",
    "features_test = []\n",
    "labels_test = []\n",
    "\n",
    "# Hàm trích xuất minutiae feature\n",
    "def extract_minutiae_features(image_path):\n",
    "    image = cv2.imread(image_path, cv2.IMREAD_GRAYSCALE)\n",
    "    clahe = cv2.createCLAHE(clipLimit=2.0, tileGridSize=(8, 8))\n",
    "    enhanced_image = clahe.apply(image)\n",
    "\n",
    "    binary_image = cv2.adaptiveThreshold(enhanced_image, 255, cv2.ADAPTIVE_THRESH_GAUSSIAN_C, cv2.THRESH_BINARY, 11, 2)\n",
    "    minutiae_points = []\n",
    "\n",
    "    rows, cols = binary_image.shape\n",
    "    for y in range(1, rows - 1):\n",
    "        for x in range(1, cols - 1):\n",
    "            if binary_image[y, x] == 255:\n",
    "                neighborhood = binary_image[y - 1:y + 2, x - 1:x + 2]\n",
    "                ridge_count = np.sum(neighborhood == 255)\n",
    "\n",
    "                if ridge_count == 2 or ridge_count == 4:  # Ridge ending or bifurcation\n",
    "                    minutiae_points.append((x, y))\n",
    "\n",
    "    return [len(minutiae_points), np.mean(binary_image), np.std(binary_image)]\n",
    "\n",
    "# Gán nhãn cho từng ngón từ thư mục Real\n",
    "finger_labels = {}\n",
    "for idx, img_path in enumerate(all_images_real):\n",
    "    finger_id = \"_\".join(os.path.basename(img_path).split(\"_\")[2:4])  # Lấy ngón tay từ tên file\n",
    "    if finger_id not in finger_labels:\n",
    "        finger_labels[finger_id] = len(finger_labels)  # Gán nhãn số duy nhất cho mỗi ngón tay\n",
    "    features_train.append(extract_minutiae_features(img_path))\n",
    "    labels_train.append(finger_labels[finger_id])  # Gán nhãn số cho mỗi ngón tay\n",
    "\n",
    "# Xử lý tất cả ảnh Altered (Test)\n",
    "for img_path in all_images_altered:\n",
    "    # Bỏ hậu tố (_CR, _Obl, _Zcut) để khớp với nhãn từ Real\n",
    "    base_name = os.path.basename(img_path).split(\"_\")\n",
    "    finger_id = \"_\".join(base_name[2:4])  # Lấy ngón tay từ tên file\n",
    "    if finger_id in finger_labels:\n",
    "        features_test.append(extract_minutiae_features(img_path))\n",
    "        labels_test.append(finger_labels[finger_id])  # Gán nhãn nếu tìm thấy trong Real\n",
    "\n",
    "# Kiểm tra số lớp trong dữ liệu huấn luyện\n",
    "if len(set(labels_train)) < 2:\n",
    "    raise ValueError(\"Training data must have at least two classes. Found only one class.\")\n",
    "\n",
    "# Kiểm tra dữ liệu test\n",
    "if not features_test:\n",
    "    raise ValueError(\"No matching IDs found between Real and Altered datasets.\")\n",
    "\n",
    "# Chuyển đổi danh sách thành mảng numpy\n",
    "features_train = np.array(features_train)\n",
    "features_test = np.array(features_test)\n",
    "\n",
    "# Kiểm tra nếu các đặc trưng rỗng\n",
    "if features_train.size == 0 or features_test.size == 0:\n",
    "    raise ValueError(\"Feature extraction failed. Ensure the input images are valid and correctly formatted.\")\n",
    "\n",
    "# Xây dựng model SVM\n",
    "model = svm.SVC(kernel='linear', C=1.0)\n",
    "model.fit(features_train, labels_train)\n",
    "\n",
    "# Dự đoán và đánh giá\n",
    "y_pred = model.predict(features_test)\n",
    "print(\"Accuracy:\", accuracy_score(labels_test, y_pred))\n",
    "print(\"Classification Report:\\n\", classification_report(labels_test, y_pred))\n",
    "\n",
    "print(\"Processing and modeling completed!\")\n",
    "\n"
   ],
   "id": "ba485ea50344c0a4",
   "outputs": [
    {
     "name": "stdout",
     "output_type": "stream",
     "text": [
      "Accuracy: 0.5\n",
      "Classification Report:\n",
      "               precision    recall  f1-score   support\n",
      "\n",
      "           0       0.50      0.13      0.21        15\n",
      "           1       0.50      0.87      0.63        15\n",
      "\n",
      "    accuracy                           0.50        30\n",
      "   macro avg       0.50      0.50      0.42        30\n",
      "weighted avg       0.50      0.50      0.42        30\n",
      "\n",
      "Processing and modeling completed!\n"
     ]
    }
   ],
   "execution_count": 26
  },
  {
   "metadata": {
    "ExecuteTime": {
     "end_time": "2024-12-23T11:10:47.468848Z",
     "start_time": "2024-12-23T11:10:44.830403Z"
    }
   },
   "cell_type": "code",
   "source": [
    "# Hàm tìm ảnh phù hợp nhất từ Real\n",
    "def find_best_match_by_minutiae(altered_image_path):\n",
    "    altered_features = extract_minutiae_features(altered_image_path)\n",
    "\n",
    "    best_match_path = None\n",
    "    best_match_count = 0\n",
    "\n",
    "    for root, _, files in os.walk(base_path_real):\n",
    "        for file in files:\n",
    "            if file.endswith(\".BMP\"):\n",
    "                real_image_path = os.path.join(root, file)\n",
    "                real_features = extract_minutiae_features(real_image_path)\n",
    "\n",
    "                # Đếm số điểm chung giữa Altered và Real\n",
    "                match_count = len(altered_features & real_features)\n",
    "\n",
    "                if match_count > best_match_count:\n",
    "                    best_match_count = match_count\n",
    "                    best_match_path = real_image_path\n",
    "\n",
    "    return best_match_path, best_match_count\n",
    "'''\n",
    "# Hiển thị danh sách file trong Dataset/Altered\n",
    "print(\"Available altered fingerprint images:\")\n",
    "altered_files = [os.path.basename(file) for file in os.listdir(base_path_altered) if file.endswith(\".BMP\")]\n",
    "if not altered_files:\n",
    "    raise FileNotFoundError(\"No altered fingerprint images found in the Dataset/Altered folder.\")\n",
    "print(\"\\n\".join(altered_files))\n",
    "'''\n",
    "# Nhập tên file ảnh từ Altered\n",
    "input_altered_image_name = input(\"Enter the name of the altered fingerprint image: \")\n",
    "altered_image_path = os.path.join(base_path_altered, input_altered_image_name)\n",
    "\n",
    "if not os.path.exists(altered_image_path):\n",
    "    raise FileNotFoundError(f\"Altered image {input_altered_image_name} not found. Ensure it exists in Dataset/Altered.\")\n",
    "\n",
    "# Tìm ảnh phù hợp nhất\n",
    "best_match_path, match_count = find_best_match_by_minutiae(altered_image_path)\n",
    "\n",
    "if best_match_path:\n",
    "    print(f\"Best match found: {os.path.basename(best_match_path)}\")\n",
    "    print(f\"Matching minutiae points: {match_count}\")\n",
    "else:\n",
    "    print(\"No match found in Real dataset.\")\n"
   ],
   "id": "f1a2a284cb53bdde",
   "outputs": [
    {
     "name": "stdout",
     "output_type": "stream",
     "text": [
      "Best match found: 1__M_Left_middle_finger.BMP\n",
      "Matching minutiae points: 814\n"
     ]
    }
   ],
   "execution_count": 21
  },
  {
   "metadata": {},
   "cell_type": "code",
   "outputs": [],
   "execution_count": null,
   "source": "",
   "id": "9432a3b572bba227"
  }
 ],
 "metadata": {
  "kernelspec": {
   "display_name": "Python 3",
   "language": "python",
   "name": "python3"
  },
  "language_info": {
   "codemirror_mode": {
    "name": "ipython",
    "version": 2
   },
   "file_extension": ".py",
   "mimetype": "text/x-python",
   "name": "python",
   "nbconvert_exporter": "python",
   "pygments_lexer": "ipython2",
   "version": "2.7.6"
  }
 },
 "nbformat": 4,
 "nbformat_minor": 5
}
